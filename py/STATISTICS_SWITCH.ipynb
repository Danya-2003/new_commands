{
 "cells": [
  {
   "cell_type": "code",
   "execution_count": 1,
   "id": "1a68557c",
   "metadata": {},
   "outputs": [],
   "source": [
    "import pandas as pd\n",
    "import numpy as np\n",
    "import scipy as sp\n",
    "import seaborn as sns\n",
    "import matplotlib.pyplot as plt\n",
    "from matplotlib import rcParams\n",
    "from matplotlib_venn import venn2, venn2_circles, venn3\n",
    "from supervenn import supervenn\n",
    "import sys\n",
    "sys.path.append(\"/home/danya-2003/pyvenn\")\n",
    "import venn"
   ]
  },
  {
   "cell_type": "code",
   "execution_count": 2,
   "id": "2b935c8f",
   "metadata": {},
   "outputs": [
    {
     "name": "stderr",
     "output_type": "stream",
     "text": [
      "/tmp/ipykernel_11109/3108875883.py:3: DtypeWarning: Columns (1,2,3,4,5,6,7,8,9,10,11,12,13,14,15,16,17,18,19,20,21,22,23,24,25,26,27,28,29,30,31,32,33,34,35,36,37,38,39,40,41,42,43,44,45,46,47,48,49,50,51,52,53,54,55,56,57,58,59,60,61,62,63,64,65,66,67,68,69,70,71,72,73,74,75,76,77,78,79,80,81,82,83,84,85,86,87,88,89,90,91,92,93,94,95,96,97,98,99,100,101,102,103,104,105,106,107,108,109,110,111,112,113,114,115,116,117,118,119,120,121,122,123,124,125,126,127,128,129,130,131,132,133,134,135,136,137,138,139,140,141,142,143,144,145,146,147,148,149,150,151,152,153,154,155,156,157,158,159,160,161,162,163,164,165,166,167,168,169,170,171,172,173,174,175,176,177,178,179,180,181,182,183,184,185,186,187,188,189,190,191,192,193,194,195,196,197,198,199,200,201,202,203,204,205,206,207,208,209,210,211,212,213,214,215,216,217,218,219,220,221,222,223,224,225,226,227,228,229,230,231,232,233,234,235,236,237,238,239,240,241,242,243,244,245,246,247,248,249,250,251,252,253,254,255,256,257,258,259,260,261,262,263,264,265,266,267,268,269,270,271,272,273,274,275,276,277,278,279,280,281,282,283,284,285,286,287,288,289,290,291,292,293,294,295,296,297,298,299,300,301,302,303,304,305,306,307,308,309,310,311,312,313,314,315,316,317,318,319,320,321,322,323,324,325,326,327,328,329,330,331,332,333,334,335,336,337,338,339,340,341,342,343,344,345,346,347,348,349,350,351,352,353,354,355,356,357,358,359,360,361,362,363,364,365,366,367,368,369,370,371,372,373,374,375,376,377,378,379,380,381,382,383,384,385,386,387,388,389,390,391,392,393,394,395,396,397,398,399,400,401,402,403,404,405,406,407,408,409,410,411,412,413,414,415,416,417,418,419,420,421,422,423,424,425,426,427,428,429,430,431,432,433,434,435,436,437,438,439,440,441,442,443,444,445,446,447,448,449,450,451,452,453,454,455,456,457,458,459,460,461,462,463,464,465,466,467,468,469,470,471,472,473,474,475,476,477,478,479,480,481,482,483,484,485,486,487,488,489,490,491,492,493,494,495,496,497,498,499,500,501,502,503,504,505,506,507,508,509,510,511,512,513,514,515,516,517,518,519,520,521,522,523,524,525,526,527,528,529,530,531,532,533,534,535,536,537,538,539,540,541,542,543,544,545,546,547,548,549,550,551,552,553,554,555,556,557,558,559,560,561,562,563,564,565,566,567,568,569,570,571,572,573,574,575,576,577,578,579,580,581,582,583,584,585,586,587,588,589,590,591,592,593,594,595,596,597,598,599,600,601,602,603,604,605,606,607,608,609,610,611,612,613,614,615,616,617,618,619,620,621,622,623,624,625,626,627,628,629,630,631,632,633,634,635,636,637,638,639,640,641,642,643,644,645,646,647,648,649,650,651,652,653,654,655,656,657,658,659,660,661,662,663,664,665,666,667,668,669,670,671,672,673,674,675,676,677,678,679,680,681,682,683,684,685,686,687,688,689,690,691,692,693,694,695,696,697,698,699,700,701,702,703,704,705,706,707,708,709,710,711,712,713,714,715,716,717,718,719,720,721,722,723,724,725,726,727,728,729,730,731,732,733,734,735,736,737,738,739,740,741,742,743,744,745,746,747,748,749,750,751,752,753,754,755,756,757,758,759,760,761,762,763,764,765,766,767,768,769,770,771,772,773,774,775,776,777,778,779,780,781,782,783,784,785,786,787,788,789,790,791,792,793,794,795,796,797,798,799,800,801,802,803,804,805,806,807,808,809,810,811,812,813,814,815,816,817,818,819,820,821,822,823,824,825,826,827,828,829,830,831,832,833,834,835,836,837,838,839,840,841,842,843,844,845,846,847,848,849,850,851,852,853,854,855,856,857,858,859,860,861,862,863,864,865,866,867,868,869,870,871,872,873,874,875,876,877,878,879,880,881,882,883,884,885,886,887,888,889,890,891,892,893,894,895,896,897,898,899,900,901,902,903,904,905,906,907,908,909,910,911,912,913,914,915,916,917,918,919,920,921,922,923,924,925,926,927,928,929,930,931,932,933,934,935,936,937,938,939,940,941,942,943,944,945,946,947,948,949,950,951,952,953,954,955,956,957,958,959,960,961,962,963,964,965,966,967,968,969,970,971,972,973,974,975,976,977,978,979,980,981,982,983,984,985,986,987,988,989,990,991,992,993,994,995,996,997,998,999,1000,1001,1002,1003,1004,1005,1006,1007,1008,1009,1010,1011,1012,1013,1014,1015,1016,1017,1018,1019,1020,1021,1022,1023,1024,1025,1026,1027,1028,1029,1030,1031,1032,1033,1034,1035,1036,1037,1038,1039,1040,1041,1042,1043,1044,1045,1046,1047,1048,1049,1050,1051,1052,1053,1054,1055,1056,1057,1058,1059,1060,1061,1062,1063,1064,1065,1066) have mixed types. Specify dtype option on import or set low_memory=False.\n",
      "  matr=pd.read_csv(\"~/Downloads/fantom//expression.tpm.gene.ASO.tsv\", sep='\\t', header=None)\n"
     ]
    }
   ],
   "source": [
    "df1 = pd.read_table('/home/danya-2003/Downloads/ctd/ctd_switched_promoters/Kulakovsky/CTD2587H24_ASO_G0267577_01.tsv', sep='\\t')\n",
    "df2 = pd.read_table('/home/danya-2003/Downloads/ctd/ctd_switched_promoters/Kulakovsky/CTD2587H24_ASO_G0267577_03.tsv', sep='\\t')\n",
    "matr=pd.read_csv(\"~/Downloads/fantom//expression.tpm.gene.ASO.tsv\", sep='\\t', header=None)\n",
    "nc=pd.read_csv(\"~/Downloads/fantom/expression.tpm.gene.None.tsv\", sep='\\t', header=None)\n",
    "deg = pd.read_table('/home/danya-2003/Downloads/ctd/oligo_DE_Summary_promoter.tsv', sep='\\t')\n",
    "df1 = df1.set_index(keys = 'prmtrID', drop=False)\n",
    "df2 = df2.set_index(keys = 'prmtrID', drop=False)"
   ]
  },
  {
   "cell_type": "code",
   "execution_count": 3,
   "id": "e6916a01",
   "metadata": {},
   "outputs": [],
   "source": [
    "### STATISTICS\n",
    "\n",
    "# list of numbers of items in df_dict\n",
    "def item_num (df_dict):\n",
    "    num=[]\n",
    "    for key in df_dict:\n",
    "        items=df_dict.get(key)\n",
    "        num.append(len(items))\n",
    "    return num\n",
    "\n",
    "#find common elements between two lists\n",
    "def common_elements_list(list1, list2):\n",
    "    result = []\n",
    "    for element in list1:\n",
    "        if element in list2:\n",
    "            result.append(element)\n",
    "    return result\n",
    "\n",
    "#find common elements between two lists\n",
    "def common_elements_list_df(list1, df1):\n",
    "    result = []\n",
    "    list2 = df1.index.tolist()\n",
    "    for element in list1:\n",
    "        if element in list2:\n",
    "            result.append(element)\n",
    "    return result\n",
    "\n",
    "#find common elements between two dfs\n",
    "def common_elements_df(df1, df2):\n",
    "    list1 = df1.index.tolist()\n",
    "    list2 = df2.index.tolist()\n",
    "    result = []\n",
    "    for element in list1:\n",
    "        if element in list2:\n",
    "            result.append(element)\n",
    "    return result"
   ]
  },
  {
   "cell_type": "code",
   "execution_count": 4,
   "id": "ef59fc8a",
   "metadata": {},
   "outputs": [
    {
     "name": "stdout",
     "output_type": "stream",
     "text": [
      "df1_prmtrs = 20925\n",
      "df2_prmtrs = 20437\n",
      "df1_df2_common_prmtrs = 20301\n",
      "\n",
      "df1_genes = 6825\n",
      "df2_genes = 6685\n",
      "df1_df2_common_genes = 6655\n"
     ]
    }
   ],
   "source": [
    "### STAT\n",
    "print('df1_prmtrs =', len(df1.index.tolist()))\n",
    "print('df2_prmtrs =', len(df2.index.tolist()))\n",
    "print('df1_df2_common_prmtrs =', len(common_elements_df(df1, df2)))\n",
    "print('')\n",
    "print('df1_genes =', len(df1.geneName.unique()))\n",
    "print('df2_genes =', len(df2.geneName.unique()))\n",
    "print('df1_df2_common_genes =', len(common_elements_list(df1.geneName.unique(), df2.geneName.unique())))"
   ]
  },
  {
   "cell_type": "code",
   "execution_count": 5,
   "id": "585e8004",
   "metadata": {},
   "outputs": [],
   "source": [
    "# table with indexes (prmtrID) and columns geneID and prmtrID\n",
    "def get_df_for_dict(df):\n",
    "    df_for_dict = df[[\"geneID\", \"prmtrID\"]]\n",
    "    return df_for_dict\n",
    "\n",
    "# dictionary with keys - genes, and values - lists of their promoters\n",
    "def get_df_dict(df_for_dict):\n",
    "    df_dict = {}\n",
    "    for index, row in df_for_dict.iterrows():\n",
    "        gene_id = df_for_dict.loc[index].values[0]\n",
    "        if gene_id not in df_dict:\n",
    "            df_dict[gene_id] = list()\n",
    "        df_dict[gene_id].append(index)\n",
    "    return df_dict\n",
    "\n",
    "#table with columns chr, start, end and strand to find distances\n",
    "def get_df_coor(df):\n",
    "    df_coor = df\n",
    "    df_coor[['chr','start', 'end', 'strand']] = df_coor['prmtrID'].str.split('_',expand=True)\n",
    "    df_coor = df_coor[['geneID', 'prmtrID', 'prmtrCoef', 'chr','start', 'end', 'strand']]\n",
    "    return df_coor\n",
    "\n",
    "#table with promoters of one gene with distance from 150 to 2000\n",
    "\n",
    "def get_distanted (df_dict, df_coor):\n",
    "    \n",
    "    distanced = pd.DataFrame(columns=['gene', 'prmtr'])\n",
    "    for key in df_dict:\n",
    "        promoters=df_dict.get(key)\n",
    "        dim = len(promoters)\n",
    "        dist = pd.DataFrame(columns=promoters,\n",
    "                      index=promoters)\n",
    "        for col in dist:\n",
    "            a_start = int(df_coor.loc[col].values[4])\n",
    "            a_end = int(df_coor.loc[col].values[5])\n",
    "            for row in dist:\n",
    "                b_start = int(df_coor.loc[row].values[4])\n",
    "                b_end = int(df_coor.loc[row].values[5])\n",
    "            \n",
    "                if (a_start < b_start) & (a_end < b_start):\n",
    "                    dist.at[col, row] = b_start - a_end\n",
    "                elif (b_start < a_start) & (b_end < a_start):\n",
    "                    dist.at[col, row] = a_start - b_end\n",
    "                else:\n",
    "                    dist.at[col, row] = 0\n",
    "        \n",
    "        dist[dist < 150] = 0\n",
    "        dist[dist > 2000] = 0\n",
    "        \n",
    "        v = dist.sum(axis=0)\n",
    "        \n",
    "        for row in v.index:                \n",
    "            if v[row] > 0:\n",
    "                #new_row = {'gene':key, 'prmtr':row}\n",
    "                #distanced=distanced.append(new_row, ignore_index=True)\n",
    "                new_row = [key, row]\n",
    "                distanced.loc[len(distanced)] = new_row\n",
    "\n",
    "\n",
    "    return distanced"
   ]
  },
  {
   "cell_type": "code",
   "execution_count": 6,
   "id": "2f3b8a88",
   "metadata": {},
   "outputs": [],
   "source": [
    "# get filtered tables with prmtrs only with distance >150 and <2000 n\n",
    "df_for_dict_1 = get_df_for_dict(df1)\n",
    "dict_df1 = get_df_dict(df_for_dict_1)\n",
    "coor_df1 = get_df_coor(df1)\n",
    "distanted_df1 = get_distanted(dict_df1,coor_df1)\n",
    "df1_dist = df1[df1.index.isin(distanted_df1.prmtr.tolist())]\n",
    "\n",
    "df_for_dict_2 = get_df_for_dict(df2)\n",
    "dict_df2 = get_df_dict(df_for_dict_2)\n",
    "coor_df2 = get_df_coor(df2)\n",
    "distanted_df2 = get_distanted(dict_df2,coor_df2)\n",
    "df2_dist = df2[df2.index.isin(distanted_df2.prmtr.tolist())]"
   ]
  },
  {
   "cell_type": "code",
   "execution_count": 7,
   "id": "333a19af",
   "metadata": {},
   "outputs": [
    {
     "name": "stdout",
     "output_type": "stream",
     "text": [
      "df1_dist_prmtrs = 8601\n",
      "df2_dist_prmtrs = 8235\n",
      "df1_df2_dist_common_prmtrs = 8099\n",
      "\n",
      "df1_dist_genes = 2592\n",
      "df1_dist_genes = 2485\n",
      "df1_df2_dist_common_genes = 2442\n"
     ]
    }
   ],
   "source": [
    "### STAT\n",
    "print('df1_dist_prmtrs =', len(df1_dist.index.tolist()))\n",
    "print('df2_dist_prmtrs =', len(df2_dist.index.tolist()))\n",
    "print('df1_df2_dist_common_prmtrs =', len(common_elements_df(df1_dist, df2_dist)))\n",
    "print('')\n",
    "print('df1_dist_genes =', len(df1_dist.geneName.unique()))\n",
    "print('df1_dist_genes =', len(df2_dist.geneName.unique()))\n",
    "print('df1_df2_dist_common_genes =', len(common_elements_list(df1_dist.geneName.unique(), df2_dist.geneName.unique())))"
   ]
  },
  {
   "cell_type": "code",
   "execution_count": 8,
   "id": "b7fe88b0",
   "metadata": {},
   "outputs": [],
   "source": [
    "#table with switched promoters; FDR < 0.05; prmtrPV < 0.05\n",
    "def get_switched(df_dist):\n",
    "    switched = df_dist[(df_dist[\"geneFDR\"] < 0.05) & (df_dist[\"prmtrPv\"] < 0.05)]\n",
    "    switched = switched[[\"geneID\", \"prmtrID\", \"prmtrCoef\"]]\n",
    "    return switched\n",
    "\n",
    "#table with unswitched promoters; FDR < 0.05; prmtrPV >= 0.05\n",
    "def get_unswitched(df_dist):\n",
    "    unswitched = df_dist[(df_dist[\"geneFDR\"] < 0.05) | (df_dist[\"prmtrPv\"] > 0.05)]\n",
    "    unswitched = unswitched[[\"geneID\", \"prmtrID\", \"prmtrCoef\"]]\n",
    "    return unswitched"
   ]
  },
  {
   "cell_type": "code",
   "execution_count": 9,
   "id": "d7e6f1c9",
   "metadata": {},
   "outputs": [],
   "source": [
    "# get switched and unswitched prmtrs\n",
    "switched_df1 = get_switched(df1_dist)\n",
    "switched_df2 = get_switched(df2_dist)\n",
    "unswitched_df1 = get_unswitched(df1_dist)\n",
    "unswitched_df2 = get_unswitched(df2_dist)\n",
    "\n",
    "# switch on and switch off\n",
    "\n",
    "switch_plus_01 = switched_df1[switched_df1['prmtrCoef'] > 0 ]\n",
    "switch_minus_01 = switched_df1[switched_df1['prmtrCoef'] < 0 ]\n",
    "switch_plus_03 = switched_df2[switched_df2['prmtrCoef'] > 0 ]\n",
    "switch_minus_03 = switched_df2[switched_df2['prmtrCoef'] < 0 ]\n",
    "\n",
    "# get COMMON switched and unswitched prmtrs\n",
    "\n",
    "switched = switched_df1[switched_df1.prmtrID.isin(switched_df2.prmtrID.tolist())]\n",
    "unswitched = unswitched_df1[unswitched_df1.prmtrID.isin(unswitched_df2.prmtrID.tolist())]"
   ]
  },
  {
   "cell_type": "code",
   "execution_count": 10,
   "id": "f8b7ba71",
   "metadata": {},
   "outputs": [
    {
     "name": "stdout",
     "output_type": "stream",
     "text": [
      "df1_switched_prmtrs = 1046\n",
      "df2_switched_prmtrs = 537\n",
      "switched_prmtrs = 220\n",
      "\n",
      "df1_unswitched_prmtrs = 8545\n",
      "df2_unswitched_prmtrs = 8179\n",
      "unswitched_prmtrs = 7997\n",
      "\n",
      "\n",
      "df1_switched_genes = 659\n",
      "df2_switched_genes = 389\n",
      "switched_genes = 167\n",
      "\n",
      "df1_unswitched_genes = 2593\n",
      "df2_unswitched_genes = 2484\n",
      "unswitched_genes = 2440\n"
     ]
    }
   ],
   "source": [
    "### STAT\n",
    "\n",
    "print('df1_switched_prmtrs =', len(switched_df1.index.tolist()))\n",
    "print('df2_switched_prmtrs =', len(switched_df2.index.tolist()))\n",
    "print('switched_prmtrs =', len(switched.index.tolist()))\n",
    "print('')\n",
    "print('df1_unswitched_prmtrs =', len(unswitched_df1.index.tolist()))\n",
    "print('df2_unswitched_prmtrs =', len(unswitched_df2.index.tolist()))\n",
    "print('unswitched_prmtrs =', len(unswitched.index.tolist()))\n",
    "print('')\n",
    "print('')\n",
    "print('df1_switched_genes =', len(switched_df1.geneID.unique()))\n",
    "print('df2_switched_genes =', len(switched_df2.geneID.unique()))\n",
    "print('switched_genes =', len(switched.geneID.unique()))\n",
    "print('')\n",
    "print('df1_unswitched_genes =', len(unswitched_df1.geneID.unique()))\n",
    "print('df2_unswitched_genes =', len(unswitched_df2.geneID.unique()))\n",
    "print('unswitched_genes =', len(unswitched.geneID.unique()))"
   ]
  },
  {
   "cell_type": "code",
   "execution_count": 11,
   "id": "9286b25b",
   "metadata": {},
   "outputs": [
    {
     "name": "stdout",
     "output_type": "stream",
     "text": [
      "high_expressed_genes_01 11120\n",
      "high_expressed_genes_03 11369\n",
      "\n",
      "low_expressed_genes_01 25044\n",
      "low_expressed_genes_03 24408\n",
      "\n",
      "zero_expressed_genes_01 87883\n",
      "zero_expressed_genes_03 88270\n",
      "\n",
      "\n",
      "high_01 common with high_03 10515\n",
      "high_01 common with low_03 605\n",
      "high_01 common with zero_03 0\n",
      "\n",
      "low_01 common with high_03 854\n",
      "low_01 common with low_03 17240\n",
      "low_01 common with zero_03 6950\n",
      "\n",
      "zero_01 common with high_03 0\n",
      "zero_01 common with low_03 6563\n",
      "zero_01 common with zero_03 81320\n",
      "\n",
      "\n",
      "high_03 common with high_01 10515\n",
      "high_03 common with low_01 854\n",
      "high_03 common with zero_01 0\n",
      "\n",
      "low_03 common with high_01 605\n",
      "low_03 common with low_01 17240\n",
      "low_03 common with zero_01 6563\n",
      "\n",
      "zero_03 common with high_01 0\n",
      "zero_03 common with low_01 6950\n",
      "zero_03 common with zero_01 81320\n"
     ]
    }
   ],
   "source": [
    "### Насколько различаются реплики ASO по экспрессии\n",
    "\n",
    "matr[226] = pd.to_numeric(matr[226], errors='coerce', downcast = 'float')\n",
    "matr[240] = pd.to_numeric(matr[240], errors='coerce', downcast = 'float')\n",
    "matr[195] = pd.to_numeric(matr[195], errors='coerce', downcast = 'float')\n",
    "matr[259] = pd.to_numeric(matr[259], errors='coerce', downcast = 'float')\n",
    "\n",
    "\n",
    "rna_id_01=pd.DataFrame(((matr[226][11:124058]+matr[240][11:124058])/2)+1).astype(float)\n",
    "rna_id_01=np.log10(rna_id_01)\n",
    "expr_01=rna_id_01.sort_values(by=0)[0]\n",
    "ensg_01=[]\n",
    "for elem in (rna_id_01.sort_values(by=0).index):\n",
    "    ensg_01.append(matr[0][elem])\n",
    "df_expr_01=pd.DataFrame({\"ensg\":ensg_01, \"expr\":expr_01})\n",
    "max_expr_01=df_expr_01.iloc[-1, 1]\n",
    "                    \n",
    "high_01=df_expr_01[df_expr_01[\"expr\"]>= 0.2*max_expr_01][\"ensg\"].to_list()\n",
    "low_01=df_expr_01[(df_expr_01[\"expr\"]<= 0.2*max_expr_01) & (df_expr_01[\"expr\"] != 0)][\"ensg\"].to_list()\n",
    "zero_01=df_expr_01[df_expr_01[\"expr\"]== 0][\"ensg\"].to_list()\n",
    "\n",
    "rna_id_03=pd.DataFrame(((matr[195][11:124058]+matr[259][11:124058])/2)+1).astype(float)\n",
    "rna_id_03=np.log10(rna_id_03)\n",
    "expr_03=rna_id_03.sort_values(by=0)[0]\n",
    "ensg_03=[]\n",
    "for elem in (rna_id_03.sort_values(by=0).index):\n",
    "    ensg_03.append(matr[0][elem])\n",
    "df_expr_03=pd.DataFrame({\"ensg\":ensg_03, \"expr\":expr_03})\n",
    "max_expr_03=df_expr_03.iloc[-1, 1]\n",
    "\n",
    "high_03=df_expr_03[df_expr_03[\"expr\"]>= 0.2*max_expr_03][\"ensg\"].to_list()\n",
    "low_03=df_expr_03[(df_expr_03[\"expr\"]<= 0.2*max_expr_03) & (df_expr_03[\"expr\"] != 0)][\"ensg\"].to_list()\n",
    "zero_03=df_expr_03[df_expr_03[\"expr\"]== 0][\"ensg\"].to_list()\n",
    "\n",
    "print('high_expressed_genes_01', len(high_01))\n",
    "print('high_expressed_genes_03', len(high_03))\n",
    "print('')\n",
    "print('low_expressed_genes_01', len(low_01))\n",
    "print('low_expressed_genes_03', len(low_03))\n",
    "print('')\n",
    "print('zero_expressed_genes_01', len(zero_01))\n",
    "print('zero_expressed_genes_03', len(zero_03))\n",
    "print('')\n",
    "print('')\n",
    "print('high_01 common with high_03', len(common_elements_list(high_01,high_03)))\n",
    "print('high_01 common with low_03', len(common_elements_list(high_01,low_03)))\n",
    "print('high_01 common with zero_03', len(common_elements_list(high_01,zero_03)))\n",
    "print('')\n",
    "print('low_01 common with high_03', len(common_elements_list(low_01,high_03)))\n",
    "print('low_01 common with low_03', len(common_elements_list(low_01,low_03)))\n",
    "print('low_01 common with zero_03', len(common_elements_list(low_01,zero_03)))\n",
    "print('')\n",
    "print('zero_01 common with high_03', len(common_elements_list(zero_01,high_03)))\n",
    "print('zero_01 common with low_03', len(common_elements_list(zero_01,low_03)))\n",
    "print('zero_01 common with zero_03', len(common_elements_list(zero_01,zero_03)))\n",
    "print('')\n",
    "print('')\n",
    "print('high_03 common with high_01', len(common_elements_list(high_03,high_01)))\n",
    "print('high_03 common with low_01', len(common_elements_list(high_03,low_01)))\n",
    "print('high_03 common with zero_01', len(common_elements_list(high_03,zero_01)))\n",
    "print('')\n",
    "print('low_03 common with high_01', len(common_elements_list(low_03,high_01)))\n",
    "print('low_03 common with low_01', len(common_elements_list(low_03,low_01)))\n",
    "print('low_03 common with zero_01', len(common_elements_list(low_03,zero_01)))\n",
    "print('')\n",
    "print('zero_03 common with high_01', len(common_elements_list(zero_03,high_01)))\n",
    "print('zero_03 common with low_01', len(common_elements_list(zero_03,low_01)))\n",
    "print('zero_03 common with zero_01', len(common_elements_list(zero_03,zero_01)))"
   ]
  },
  {
   "cell_type": "code",
   "execution_count": 12,
   "id": "a6749608",
   "metadata": {},
   "outputs": [],
   "source": [
    "# HIGH, LOW AND ZERO EXPRESSED GENES\n",
    "\n",
    "rna_id_01_03=pd.DataFrame(((matr[226][11:124058]+matr[240][11:124058]+matr[195][11:124058]+matr[259][11:124058])/4)+1).astype(float)\n",
    "rna_id_01_03=np.log10(rna_id_01_03)\n",
    "expr_01_03=rna_id_01_03.sort_values(by=0)[0]\n",
    "ensg_01_03=[]\n",
    "for elem in (rna_id_01_03.sort_values(by=0).index):\n",
    "    ensg_01_03.append(matr[0][elem])\n",
    "df_expr_01_03=pd.DataFrame({\"ensg\":ensg_01_03, \"expr\":expr_01_03})\n",
    "max_expr_01_03=df_expr_01_03.iloc[-1, 1]\n",
    "                    \n",
    "high_01_03=df_expr_01_03[df_expr_01_03[\"expr\"]>= 0.2*max_expr_01_03][\"ensg\"].to_list()\n",
    "low_01_03=df_expr_01_03[(df_expr_01_03[\"expr\"]<= 0.2*max_expr_01_03) & (df_expr_01_03[\"expr\"] != 0)][\"ensg\"].to_list()\n",
    "zero_01_03=df_expr_01_03[df_expr_01_03[\"expr\"]== 0][\"ensg\"].to_list()\n",
    "\n",
    "\n",
    "nc[1] = pd.to_numeric(nc[1], errors='coerce', downcast = 'float')\n",
    "nc[2] = pd.to_numeric(nc[2], errors='coerce', downcast = 'float')\n",
    "nc[3] = pd.to_numeric(nc[3], errors='coerce', downcast = 'float')\n",
    "nc[4] = pd.to_numeric(nc[4], errors='coerce', downcast = 'float')\n",
    "\n",
    "nc_id = pd.DataFrame(((nc[1][11:124058]+nc[2][11:124058]+nc[3][11:124058]+nc[4][11:124058])/4)+1).astype(float)\n",
    "nc_id = np.log10(nc_id)\n",
    "expr_nc = nc_id.sort_values(by=0)[0]\n",
    "ensg_nc = []\n",
    "for elem in (nc_id.sort_values(by=0).index):\n",
    "    ensg_nc.append(nc[0][elem])\n",
    "df_nc=pd.DataFrame({\"ensg\":ensg_nc, \"expr\":expr_nc})\n",
    "max_expr_nc=df_nc.iloc[-1, 1]\n",
    "high_nc=df_nc[df_nc[\"expr\"]>= 0.2*max_expr_nc][\"ensg\"].to_list()\n",
    "low_nc=df_nc[(df_nc[\"expr\"]<= 0.2*max_expr_nc) & (df_nc[\"expr\"] != 0)][\"ensg\"].to_list()\n",
    "zero_nc=df_nc[df_nc[\"expr\"]== 0][\"ensg\"].to_list()"
   ]
  },
  {
   "cell_type": "code",
   "execution_count": 13,
   "id": "7440aacf",
   "metadata": {},
   "outputs": [
    {
     "name": "stdout",
     "output_type": "stream",
     "text": [
      "high_expressed_genes 11291\n",
      "high_expressed_genes_nc 10982\n",
      "\n",
      "low_expressed_genes 31436\n",
      "low_expressed_genes_nc 22309\n",
      "\n",
      "zero_expressed_genes 81320\n",
      "zero_expressed_genes_nc 90756\n"
     ]
    }
   ],
   "source": [
    "### STAT\n",
    "\n",
    "print('high_expressed_genes', len(high_01_03))\n",
    "print('high_expressed_genes_nc', len(high_nc))\n",
    "print('')\n",
    "print('low_expressed_genes', len(low_01_03))\n",
    "print('low_expressed_genes_nc', len(low_nc))\n",
    "print('')\n",
    "print('zero_expressed_genes', len(zero_01_03))\n",
    "print('zero_expressed_genes_nc', len(zero_nc))"
   ]
  },
  {
   "cell_type": "code",
   "execution_count": 14,
   "id": "28df02b2",
   "metadata": {},
   "outputs": [],
   "source": [
    "# DEGs\n",
    "df_degs = deg[(deg[\"KD.geneSymbol\"] == \"CTD-2587H24.5\") & (abs(deg[\"log2FC\"]) > 0.5) & (abs(deg[\"ZScore\"]) > 1.645) & (deg[\"fdr\"] < 0.05) ]\n",
    "df_undegs = deg[(deg[\"KD.geneSymbol\"] == \"CTD-2587H24.5\") & ((abs(deg[\"log2FC\"]) < 0.5) | (abs(deg[\"ZScore\"]) < 1.645) | (deg[\"fdr\"] > 0.05))]\n",
    "df_degs = df_degs.set_index(keys = 'prmtrID', drop=False)\n",
    "df_undegs = df_undegs.set_index(keys = 'prmtrID', drop=False)"
   ]
  },
  {
   "cell_type": "code",
   "execution_count": 15,
   "id": "800bc806",
   "metadata": {},
   "outputs": [
    {
     "name": "stdout",
     "output_type": "stream",
     "text": [
      "DEGs 20169\n",
      "nonDEGs 39121\n",
      "\n",
      "\n",
      "df1_switched_common_with_DEGs 1118\n",
      "df2_switched_common_with_DEGs 705\n",
      "switched_common_with_DEGs 329\n",
      "\n",
      "df1_unswitched_common_with_DEGs 5534\n",
      "df2_unswitched_common_with_DEGs 5230\n",
      "unswitched_common_with_DEGs 5078\n",
      "\n",
      "\n",
      "df1_switched_common_with_nonDEGs 874\n",
      "df2_switched_common_with_nonDEGs 359\n",
      "switched_common_with_nonDEGs 111\n",
      "\n",
      "df1_unswitched_common_with_nonDEGs 10175\n",
      "df2_unswitched_common_with_nonDEGs 9852\n",
      "unswitched_common_with_nonDEGs 9663\n"
     ]
    }
   ],
   "source": [
    "### STAT\n",
    "print('DEGs', len(df_degs.index.to_list()))\n",
    "print('nonDEGs', len(df_undegs.index.to_list()))\n",
    "print('')\n",
    "print('')\n",
    "print('df1_switched_common_with_DEGs', len(common_elements_df(df_degs,switched_df1)))\n",
    "print('df2_switched_common_with_DEGs', len(common_elements_df(df_degs,switched_df2)))\n",
    "print('switched_common_with_DEGs', len(common_elements_df(df_degs,switched)))\n",
    "print('')\n",
    "print('df1_unswitched_common_with_DEGs', len(common_elements_df(df_degs,unswitched_df1)))\n",
    "print('df2_unswitched_common_with_DEGs', len(common_elements_df(df_degs,unswitched_df2)))\n",
    "print('unswitched_common_with_DEGs', len(common_elements_df(df_degs,unswitched)))\n",
    "print('')\n",
    "print('')\n",
    "print('df1_switched_common_with_nonDEGs', len(common_elements_df(df_undegs,switched_df1)))\n",
    "print('df2_switched_common_with_nonDEGs', len(common_elements_df(df_undegs,switched_df2)))\n",
    "print('switched_common_with_nonDEGs', len(common_elements_df(df_undegs,switched)))\n",
    "print('')\n",
    "print('df1_unswitched_common_with_nonDEGs', len(common_elements_df(df_undegs,unswitched_df1)))\n",
    "print('df2_unswitched_common_with_nonDEGs', len(common_elements_df(df_undegs,unswitched_df2)))\n",
    "print('unswitched_common_with_nonDEGs', len(common_elements_df(df_undegs,unswitched)))"
   ]
  },
  {
   "cell_type": "code",
   "execution_count": 31,
   "id": "7b2af34e",
   "metadata": {},
   "outputs": [
    {
     "data": {
      "text/plain": [
       "<supervenn._plots.SupervennPlot at 0x7f23aab3a640>"
      ]
     },
     "execution_count": 31,
     "metadata": {},
     "output_type": "execute_result"
    },
    {
     "data": {
      "image/png": "[encoded data removed]",
      "text/plain": [
       "<Figure size 1440x720 with 1 Axes>"
      ]
     },
     "metadata": {
      "needs_background": "light"
     },
     "output_type": "display_data"
    }
   ],
   "source": [
    "a1 = df_degs.index.to_list()\n",
    "b1 = df_undegs.index.to_list()\n",
    "c1 = switched_df1.index.to_list()\n",
    "a = set(a1)\n",
    "b = set(b1)\n",
    "c = set(c1)\n",
    "sets = [c, b, a]\n",
    "plt.figure(figsize=(20, 10))\n",
    "supervenn(sets, side_plots=False)"
   ]
  },
  {
   "cell_type": "code",
   "execution_count": null,
   "id": "d38e7fde",
   "metadata": {},
   "outputs": [],
   "source": [
    "len(df_undegs.index.to_list())"
   ]
  },
  {
   "cell_type": "code",
   "execution_count": null,
   "id": "d3f4d869",
   "metadata": {},
   "outputs": [],
   "source": [
    "labels = venn.get_labels([df_degs.index.to_list(), df_undegs.index.to_list(), switched_df1.index.to_list()])"
   ]
  },
  {
   "cell_type": "code",
   "execution_count": null,
   "id": "99c14b39",
   "metadata": {},
   "outputs": [],
   "source": [
    "labels"
   ]
  },
  {
   "cell_type": "code",
   "execution_count": null,
   "id": "c261852a",
   "metadata": {},
   "outputs": [],
   "source": [
    "fig, ax = venn.venn3(labels, names=['list 1', 'list 2', 'list 3'])\n",
    "fig.show()"
   ]
  },
  {
   "cell_type": "code",
   "execution_count": null,
   "id": "df34be71",
   "metadata": {},
   "outputs": [],
   "source": [
    "### STAT\n",
    "\n",
    "labels = venn.get_labels([\n",
    "            range(10),\n",
    "            range(5, 15)\n",
    "        ], fill=['number', 'logic'])\n",
    "print (labels)\n",
    "    \n",
    "    \n",
    "    "
   ]
  },
  {
   "cell_type": "code",
   "execution_count": null,
   "id": "7b9c7cd1",
   "metadata": {},
   "outputs": [],
   "source": [
    "# list with distances between promoters\n",
    "def get_distances (df_dict, df_coor):\n",
    "    distances = [] \n",
    "    flatten_distances = []\n",
    "    for key in df_dict:\n",
    "        promoters=df_dict.get(key)\n",
    "        dist = pd.DataFrame(columns=promoters,\n",
    "                      index=promoters)\n",
    "        for col in dist:\n",
    "            a_start = int(df_coor.loc[col].values[4])\n",
    "            a_end = int(df_coor.loc[col].values[5])\n",
    "            for row in dist:\n",
    "                b_start = int(df_coor.loc[row].values[4])\n",
    "                b_end = int(df_coor.loc[row].values[5])\n",
    "            \n",
    "                if (a_start < b_start) & (a_end <= b_start):\n",
    "                    dist.at[col, row] = b_start - a_end\n",
    "                elif (b_start < a_start) & (b_end <= a_start):\n",
    "                    dist.at[col, row] = np.NaN\n",
    "                else:\n",
    "                    dist.at[col, row] = np.NaN\n",
    "        distances.extend(dist.values.tolist())\n",
    "        \n",
    "  \n",
    "    for sublist in distances:\n",
    "        for val in sublist:\n",
    "            flatten_distances.append(val)\n",
    "          \n",
    "    return flatten_distances\n"
   ]
  },
  {
   "cell_type": "code",
   "execution_count": null,
   "id": "4f8c7b84",
   "metadata": {},
   "outputs": [],
   "source": [
    "# get filtered tables with prmtrs only with distance >150 and <2000 n\n",
    "df_for_dict = get_df_for_dict(df1_dist)\n",
    "dict_df = get_df_dict(df_for_dict)\n",
    "coor_df = get_df_coor(df1_dist)\n",
    "distanted_df = get_distanted(dict_df,coor_df)\n",
    "df_dist = df1_dist[df1_dist.index.isin(distanted_df.prmtr.tolist())]\n",
    "distances=get_distances(dict_df, coor_df)"
   ]
  },
  {
   "cell_type": "code",
   "execution_count": null,
   "id": "33b9b569",
   "metadata": {},
   "outputs": [],
   "source": [
    "a=0\n",
    "for i in distances:\n",
    "    if i > 50000:\n",
    "        a+=1\n",
    "print(a)"
   ]
  },
  {
   "cell_type": "code",
   "execution_count": null,
   "id": "35d11f8d",
   "metadata": {},
   "outputs": [],
   "source": [
    "distances = [x for x in distances if x == x]\n",
    "distances_1 = [x for x in distances if x < 2000]\n",
    "distances_2 = [x for x in distances if x < 10000]"
   ]
  },
  {
   "cell_type": "code",
   "execution_count": null,
   "id": "6c593847",
   "metadata": {},
   "outputs": [],
   "source": [
    "distances"
   ]
  },
  {
   "cell_type": "code",
   "execution_count": null,
   "id": "744a0bf5",
   "metadata": {},
   "outputs": [],
   "source": [
    "import seaborn as sns"
   ]
  },
  {
   "cell_type": "code",
   "execution_count": null,
   "id": "c5affa2f",
   "metadata": {},
   "outputs": [],
   "source": [
    "sns.histplot(data = distances, binwidth = 25, stat = 'count')"
   ]
  },
  {
   "cell_type": "code",
   "execution_count": null,
   "id": "553541cc",
   "metadata": {},
   "outputs": [],
   "source": [
    "sns.histplot(data = distances_1, binwidth = 25, stat = 'count')"
   ]
  },
  {
   "cell_type": "code",
   "execution_count": null,
   "id": "0d9ba3e3",
   "metadata": {},
   "outputs": [],
   "source": [
    "df1_distances = get_distances(df1_dict, df1_coor)\n",
    "df1_distances_cleaned = [x for x in df1_distances if str(x) != 'nan']\n",
    "zero1=0\n",
    "for i in df1_distances_cleaned:\n",
    "    if i == 0:\n",
    "        zero1+=1\n",
    "df1_distances_cleaned = [i for i in df1_distances_cleaned if i != 0]\n",
    "df1_distances_cleaned.sort()\n",
    "distances_1 = pd.DataFrame({'promoters': df1_distances_cleaned})\n",
    "\n",
    "df2_distances = get_distances(df2_dict, df2_coor)\n",
    "df2_distances_cleaned = [x for x in df2_distances if str(x) != 'nan']\n",
    "zero2=0\n",
    "for i in df2_distances_cleaned:\n",
    "    if i == 0:\n",
    "        zero2+=1\n",
    "df2_distances_cleaned = [i for i in df2_distances_cleaned if i != 0]\n",
    "distances_2 = pd.DataFrame({'promoters': df2_distances_cleaned})\n",
    "\n",
    "print('zero_distances_1', zero1)\n",
    "print('zero_distances_2', zero2)"
   ]
  },
  {
   "cell_type": "code",
   "execution_count": null,
   "id": "dccde21b",
   "metadata": {},
   "outputs": [],
   "source": []
  },
  {
   "cell_type": "code",
   "execution_count": null,
   "id": "b969ad66",
   "metadata": {},
   "outputs": [],
   "source": [
    "sns.histplot(data=distances_1)"
   ]
  },
  {
   "cell_type": "code",
   "execution_count": null,
   "id": "c204a8d0",
   "metadata": {},
   "outputs": [],
   "source": [
    "sns.histplot(data=distances_2)"
   ]
  },
  {
   "cell_type": "code",
   "execution_count": null,
   "id": "5709bd24",
   "metadata": {},
   "outputs": [],
   "source": [
    "large1=0\n",
    "for i in df1_distances_cleaned:\n",
    "    if i > 100000:\n",
    "        large1+=1\n",
    "df1_distances_cleaned = [i for i in df1_distances_cleaned if i < 100000]\n",
    "distances_1 = pd.DataFrame({'promoters': df1_distances_cleaned})\n",
    "\n",
    "large2=0\n",
    "for i in df2_distances_cleaned:\n",
    "    if i > 100000:\n",
    "        large2+=1\n",
    "df2_distances_cleaned = [i for i in df2_distances_cleaned if i < 100000]\n",
    "distances_2 = pd.DataFrame({'promoters': df2_distances_cleaned})\n",
    "\n",
    "print('large_distances_1', large1)\n",
    "print('large_distances_2', large2)"
   ]
  },
  {
   "cell_type": "code",
   "execution_count": null,
   "id": "105927d8",
   "metadata": {},
   "outputs": [],
   "source": [
    "sns.histplot(data=distances_1)"
   ]
  },
  {
   "cell_type": "code",
   "execution_count": null,
   "id": "e3b8ff0d",
   "metadata": {},
   "outputs": [],
   "source": [
    "sns.histplot(data=distances_2)"
   ]
  },
  {
   "cell_type": "code",
   "execution_count": null,
   "id": "59649311",
   "metadata": {},
   "outputs": [],
   "source": [
    "large1=0\n",
    "for i in df1_distances_cleaned:\n",
    "    if i > 2000:\n",
    "        large1+=1\n",
    "df1_distances_cleaned = [i for i in df1_distances_cleaned if i < 2000]\n",
    "distances_1 = pd.DataFrame({'promoters': df1_distances_cleaned})\n",
    "\n",
    "large2=0\n",
    "for i in df2_distances_cleaned:\n",
    "    if i > 2000:\n",
    "        large2+=1\n",
    "df2_distances_cleaned = [i for i in df2_distances_cleaned if i < 2000]\n",
    "distances_2 = pd.DataFrame({'promoters': df2_distances_cleaned})\n",
    "\n",
    "print('large_distances_1', large1)\n",
    "print('large_distances_2', large2)"
   ]
  },
  {
   "cell_type": "code",
   "execution_count": null,
   "id": "a01dd318",
   "metadata": {},
   "outputs": [],
   "source": [
    "sns.histplot(data=distances_1)"
   ]
  },
  {
   "cell_type": "code",
   "execution_count": null,
   "id": "d6228135",
   "metadata": {},
   "outputs": [],
   "source": [
    "sns.histplot(data=distances_2)"
   ]
  },
  {
   "cell_type": "code",
   "execution_count": null,
   "id": "d250b04d",
   "metadata": {},
   "outputs": [],
   "source": [
    "df1_item_num = item_num(df1_dict)\n",
    "df2_item_num = item_num(df2_dict)"
   ]
  },
  {
   "cell_type": "code",
   "execution_count": null,
   "id": "fe2b15f5",
   "metadata": {},
   "outputs": [],
   "source": [
    "sns.histplot(data=df1_item_num)"
   ]
  },
  {
   "cell_type": "code",
   "execution_count": null,
   "id": "1f1ecd80",
   "metadata": {},
   "outputs": [],
   "source": [
    "sns.histplot(data=df1_item_num)"
   ]
  },
  {
   "cell_type": "code",
   "execution_count": null,
   "id": "677454fe",
   "metadata": {},
   "outputs": [],
   "source": [
    "for_zenbu = get_distanted(df2_dict, df2_coor, 150, 1500)\n",
    "for_zenbu"
   ]
  },
  {
   "cell_type": "code",
   "execution_count": null,
   "id": "05dc6155",
   "metadata": {},
   "outputs": [],
   "source": [
    "            if (a_start > b_start) & (a_end < b_end):\n",
    "                dist.at['col', 'row'] = 0\n",
    "            if (b_start > a_start) & (b_end < a_end):\n",
    "                dist.at['col', 'row'] = 0\n",
    "            if (a_start < b_start) & (a_end < b_end) & (a_end > b_start):\n",
    "                dist.at['col', 'row'] = 0\n",
    "            if (b_start < a_start) & (b_end < a_end) & (b_end > a_start):\n",
    "                dist.at['col', 'row'] = 0\n",
    "            if (a_start == b_start):\n",
    "                dist.at['col', 'row'] = 0\n",
    "            if (a_end == b_end):\n",
    "                dist.at['col', 'row'] = 0"
   ]
  }
 ],
 "metadata": {
  "kernelspec": {
   "display_name": "Python 3 (ipykernel)",
   "language": "python",
   "name": "python3"
  },
  "language_info": {
   "codemirror_mode": {
    "name": "ipython",
    "version": 3
   },
   "file_extension": ".py",
   "mimetype": "text/x-python",
   "name": "python",
   "nbconvert_exporter": "python",
   "pygments_lexer": "ipython3",
   "version": "3.9.7"
  }
 },
 "nbformat": 4,
 "nbformat_minor": 5
}
