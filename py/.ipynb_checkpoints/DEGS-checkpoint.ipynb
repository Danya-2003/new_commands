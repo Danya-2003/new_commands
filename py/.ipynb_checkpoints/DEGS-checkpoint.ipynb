{
 "cells": [
  {
   "cell_type": "code",
   "execution_count": 1,
   "metadata": {
    "id": "WgwtypmTcPx-"
   },
   "outputs": [],
   "source": [
    "import pandas as pd"
   ]
  },
  {
   "cell_type": "code",
   "execution_count": 2,
   "metadata": {
    "id": "nFJRIiRmcPyA"
   },
   "outputs": [],
   "source": [
    "df = pd.read_table('/home/danya-2003/Downloads/ctd/oligo_DE_Summary_promoter.tsv', sep='\\t')"
   ]
  },
  {
   "cell_type": "code",
   "execution_count": 3,
   "metadata": {
    "id": "j_tpAGrRcPyC"
   },
   "outputs": [],
   "source": [
    "def getIndexes(dfObj, value):\n",
    "     \n",
    "    # Empty list\n",
    "    listOfPos = []\n",
    "     \n",
    "    # isin() method will return a dataframe with\n",
    "    # boolean values, True at the positions   \n",
    "    # where element exists\n",
    "    result = dfObj.isin([value])\n",
    "     \n",
    "    # any() method will return\n",
    "    # a boolean series\n",
    "    seriesObj = result.any()\n",
    " \n",
    "    # Get list of column names where\n",
    "    # element exists\n",
    "    columnNames = list(seriesObj[seriesObj == True].index)\n",
    "    \n",
    "    # Iterate over the list of columns and\n",
    "    # extract the row index where element exists\n",
    "    for col in columnNames:\n",
    "        rows = list(result[col][result[col] == True].index)\n",
    " \n",
    "        for row in rows:\n",
    "            listOfPos.append((row, col))\n",
    "             \n",
    "    # This list contains a list tuples with\n",
    "    # the index of element in the dataframe\n",
    "    return listOfPos"
   ]
  },
  {
   "cell_type": "code",
   "execution_count": 4,
   "metadata": {
    "id": "m-UsyP03cPyD"
   },
   "outputs": [],
   "source": [
    "num = getIndexes(df, 'CTD-2587H24.5')"
   ]
  },
  {
   "cell_type": "code",
   "execution_count": 5,
   "metadata": {
    "id": "QcgfXHNLcPyE"
   },
   "outputs": [],
   "source": [
    "df_degs = df[(df[\"KD.geneSymbol\"] == \"CTD-2587H24.5\") & (abs(df[\"log2FC\"]) > 0.5) & (abs(df[\"ZScore\"]) > 1.645) & (df[\"fdr\"] < 0.05) ]\n",
    "df_degs_plus = df[(df[\"KD.geneSymbol\"] == \"CTD-2587H24.5\") & (df[\"log2FC\"] > 0.5) & (abs(df[\"ZScore\"]) > 1.645) & (df[\"fdr\"] < 0.05) ]\n",
    "df_degs_minus = df[(df[\"KD.geneSymbol\"] == \"CTD-2587H24.5\") & (df[\"log2FC\"] < -0.5) & (abs(df[\"ZScore\"]) > 1.645) & (df[\"fdr\"] < 0.05) ]\n",
    "df_undegs = df[(df[\"KD.geneSymbol\"] == \"CTD-2587H24.5\") & ((abs(df[\"log2FC\"]) < 0.5) | (abs(df[\"ZScore\"]) < 1.645) | (df[\"fdr\"] > 0.05))]"
   ]
  },
  {
   "cell_type": "code",
   "execution_count": 6,
   "metadata": {
    "id": "4JjDaJDacPyF"
   },
   "outputs": [],
   "source": [
    "degs = df_degs[\"prmtrID\"].tolist()\n",
    "degs_plus = df_degs_plus[\"prmtrID\"].tolist()\n",
    "degs_minus = df_degs_minus[\"prmtrID\"].tolist()\n",
    "undegs = df_undegs[\"prmtrID\"].tolist()"
   ]
  },
  {
   "cell_type": "code",
   "execution_count": 7,
   "metadata": {
    "id": "dYfnPAqVcPyG"
   },
   "outputs": [],
   "source": [
    "with open(\"ctd_deg.txt\", 'w') as f:\n",
    "  for i in range (len(degs)):\n",
    "    f.write(degs[i]+ '\\n')\n",
    "    \n",
    "with open(\"ctd_deg_plus.txt\", 'w') as f:\n",
    "  for i in range (len(degs_plus)):\n",
    "    f.write(degs_plus[i]+ '\\n')\n",
    "    \n",
    "with open(\"ctd_deg_minus.txt\", 'w') as f:\n",
    "  for i in range (len(degs_minus)):\n",
    "    f.write(degs_minus[i]+ '\\n')\n",
    "    \n",
    "with open(\"ctd_undeg.txt\", 'w') as f:\n",
    "  for i in range (len(undegs)):\n",
    "    f.write(undegs[i]+ '\\n')"
   ]
  },
  {
   "cell_type": "code",
   "execution_count": 8,
   "metadata": {},
   "outputs": [],
   "source": [
    "switch = pd.read_table('/home/danya-2003/Downloads/ctd/ctd_switched_promoters/Kulakovsky/CTD2587H24_ASO_G0267577_01.tsv', sep='\\t')"
   ]
  },
  {
   "cell_type": "code",
   "execution_count": 9,
   "metadata": {},
   "outputs": [],
   "source": [
    "go_res = ['ENSG00000132507', 'ENSG00000135679', 'ENSG00000204463', 'ENSG00000012061', \n",
    "        'ENSG00000076248', 'ENSG00000189403', 'ENSG00000066135', 'ENSG00000157873']"
   ]
  },
  {
   "cell_type": "code",
   "execution_count": 10,
   "metadata": {},
   "outputs": [
    {
     "data": {
      "text/plain": [
       "True"
      ]
     },
     "execution_count": 10,
     "metadata": {},
     "output_type": "execute_result"
    }
   ],
   "source": [
    "lst1 = []\n",
    "lst2 = []\n",
    "\n",
    "for a in go_res:\n",
    "    for i, elem in enumerate(switch['geneID']):\n",
    "      if a in elem:\n",
    "        b = switch.iloc[i, 3]\n",
    "        lst1.append(b)\n",
    "        \n",
    "for a in lst1:\n",
    "    for i, elem in enumerate(df_degs['prmtrID']):\n",
    "        if a in elem:\n",
    "            lst2.append(a)\n",
    "\n",
    "len(lst2) == len(lst1)"
   ]
  },
  {
   "cell_type": "code",
   "execution_count": 11,
   "metadata": {},
   "outputs": [],
   "source": [
    "df1 = pd.read_table('/home/danya-2003/Downloads/ctd/oligo_DE_Summary_gene.tsv', sep='\\t')\n",
    "jpx = pd.read_table('/home/danya-2003/Downloads/JPX.txt', header = None, names=[\"gene\", \"corr\"])\n"
   ]
  },
  {
   "cell_type": "code",
   "execution_count": 40,
   "metadata": {},
   "outputs": [
    {
     "data": {
      "text/html": [
       "<div>\n",
       "<style scoped>\n",
       "    .dataframe tbody tr th:only-of-type {\n",
       "        vertical-align: middle;\n",
       "    }\n",
       "\n",
       "    .dataframe tbody tr th {\n",
       "        vertical-align: top;\n",
       "    }\n",
       "\n",
       "    .dataframe thead th {\n",
       "        text-align: right;\n",
       "    }\n",
       "</style>\n",
       "<table border=\"1\" class=\"dataframe\">\n",
       "  <thead>\n",
       "    <tr style=\"text-align: right;\">\n",
       "      <th></th>\n",
       "      <th>geneID</th>\n",
       "      <th>geneSymbol</th>\n",
       "      <th>baseMean</th>\n",
       "      <th>log2FC</th>\n",
       "      <th>pvalue</th>\n",
       "      <th>fdr</th>\n",
       "      <th>KD.tpm.ave</th>\n",
       "      <th>NC.tpm.ave</th>\n",
       "      <th>perturb_id</th>\n",
       "      <th>KD.geneSymbol</th>\n",
       "      <th>ZScore</th>\n",
       "    </tr>\n",
       "  </thead>\n",
       "  <tbody>\n",
       "    <tr>\n",
       "      <th>1505156</th>\n",
       "      <td>ENSG00000225470</td>\n",
       "      <td>JPX</td>\n",
       "      <td>308.086</td>\n",
       "      <td>-0.818620</td>\n",
       "      <td>5.127341e-07</td>\n",
       "      <td>7.907385e-03</td>\n",
       "      <td>19.284</td>\n",
       "      <td>34.154</td>\n",
       "      <td>ASO_G0225470_05</td>\n",
       "      <td>JPX</td>\n",
       "      <td>-2.317</td>\n",
       "    </tr>\n",
       "    <tr>\n",
       "      <th>1520578</th>\n",
       "      <td>ENSG00000225470</td>\n",
       "      <td>JPX</td>\n",
       "      <td>251.624</td>\n",
       "      <td>-2.229842</td>\n",
       "      <td>3.989187e-34</td>\n",
       "      <td>6.316479e-30</td>\n",
       "      <td>6.935</td>\n",
       "      <td>33.010</td>\n",
       "      <td>ASO_G0225470_AD_04</td>\n",
       "      <td>JPX</td>\n",
       "      <td>-7.054</td>\n",
       "    </tr>\n",
       "    <tr>\n",
       "      <th>1520579</th>\n",
       "      <td>ENSG00000150630</td>\n",
       "      <td>VEGFC</td>\n",
       "      <td>929.206</td>\n",
       "      <td>-0.631426</td>\n",
       "      <td>1.126370e-08</td>\n",
       "      <td>8.917471e-05</td>\n",
       "      <td>76.234</td>\n",
       "      <td>116.752</td>\n",
       "      <td>ASO_G0225470_AD_04</td>\n",
       "      <td>JPX</td>\n",
       "      <td>-2.619</td>\n",
       "    </tr>\n",
       "    <tr>\n",
       "      <th>1520581</th>\n",
       "      <td>ENSG00000204131</td>\n",
       "      <td>NHSL2</td>\n",
       "      <td>74.488</td>\n",
       "      <td>-0.860922</td>\n",
       "      <td>3.495515e-06</td>\n",
       "      <td>1.383700e-02</td>\n",
       "      <td>5.187</td>\n",
       "      <td>9.438</td>\n",
       "      <td>ASO_G0225470_AD_04</td>\n",
       "      <td>JPX</td>\n",
       "      <td>-1.822</td>\n",
       "    </tr>\n",
       "  </tbody>\n",
       "</table>\n",
       "</div>"
      ],
      "text/plain": [
       "                  geneID geneSymbol  baseMean    log2FC        pvalue  \\\n",
       "1505156  ENSG00000225470        JPX   308.086 -0.818620  5.127341e-07   \n",
       "1520578  ENSG00000225470        JPX   251.624 -2.229842  3.989187e-34   \n",
       "1520579  ENSG00000150630      VEGFC   929.206 -0.631426  1.126370e-08   \n",
       "1520581  ENSG00000204131      NHSL2    74.488 -0.860922  3.495515e-06   \n",
       "\n",
       "                  fdr  KD.tpm.ave  NC.tpm.ave          perturb_id  \\\n",
       "1505156  7.907385e-03      19.284      34.154     ASO_G0225470_05   \n",
       "1520578  6.316479e-30       6.935      33.010  ASO_G0225470_AD_04   \n",
       "1520579  8.917471e-05      76.234     116.752  ASO_G0225470_AD_04   \n",
       "1520581  1.383700e-02       5.187       9.438  ASO_G0225470_AD_04   \n",
       "\n",
       "        KD.geneSymbol  ZScore  \n",
       "1505156           JPX  -2.317  \n",
       "1520578           JPX  -7.054  \n",
       "1520579           JPX  -2.619  \n",
       "1520581           JPX  -1.822  "
      ]
     },
     "execution_count": 40,
     "metadata": {},
     "output_type": "execute_result"
    }
   ],
   "source": [
    "df1_degs"
   ]
  },
  {
   "cell_type": "code",
   "execution_count": 20,
   "metadata": {},
   "outputs": [],
   "source": [
    "df1_degs = df1[(df1[\"KD.geneSymbol\"] == \"JPX\") & (abs(df1[\"log2FC\"]) > 0.5) & (abs(df1[\"ZScore\"]) > 1.645) & (df1[\"fdr\"] < 0.05) ]\n",
    "df1_degs_plus = df1[(df1[\"KD.geneSymbol\"] == \"JPX\") & (df1[\"log2FC\"] > 0.5) & (abs(df1[\"ZScore\"]) > 1.645) & (df1[\"fdr\"] < 0.05) ]\n",
    "df1_degs_minus = df1[(df1[\"KD.geneSymbol\"] == \"JPX\") & (df1[\"log2FC\"] < -0.5) & (abs(df1[\"ZScore\"]) > 1.645) & (df1[\"fdr\"] < 0.05) ]\n",
    "df1_undegs = df1[(df1[\"KD.geneSymbol\"] == \"JPX\") & ((abs(df1[\"log2FC\"]) < 0.5) | (abs(df1[\"ZScore\"]) < 1.645) | (df1[\"fdr\"] > 0.05))]"
   ]
  },
  {
   "cell_type": "code",
   "execution_count": 37,
   "metadata": {},
   "outputs": [],
   "source": [
    "jpx=jpx.set_index(jpx['gene'], drop = True)"
   ]
  },
  {
   "cell_type": "code",
   "execution_count": 48,
   "metadata": {},
   "outputs": [
    {
     "data": {
      "text/html": [
       "<div>\n",
       "<style scoped>\n",
       "    .dataframe tbody tr th:only-of-type {\n",
       "        vertical-align: middle;\n",
       "    }\n",
       "\n",
       "    .dataframe tbody tr th {\n",
       "        vertical-align: top;\n",
       "    }\n",
       "\n",
       "    .dataframe thead th {\n",
       "        text-align: right;\n",
       "    }\n",
       "</style>\n",
       "<table border=\"1\" class=\"dataframe\">\n",
       "  <thead>\n",
       "    <tr style=\"text-align: right;\">\n",
       "      <th></th>\n",
       "      <th>gene</th>\n",
       "      <th>corr</th>\n",
       "    </tr>\n",
       "    <tr>\n",
       "      <th>gene</th>\n",
       "      <th></th>\n",
       "      <th></th>\n",
       "    </tr>\n",
       "  </thead>\n",
       "  <tbody>\n",
       "    <tr>\n",
       "      <th>ENSG00000204131</th>\n",
       "      <td>ENSG00000204131</td>\n",
       "      <td>0.487731</td>\n",
       "    </tr>\n",
       "    <tr>\n",
       "      <th>ENSG00000204131</th>\n",
       "      <td>ENSG00000204131</td>\n",
       "      <td>0.499736</td>\n",
       "    </tr>\n",
       "    <tr>\n",
       "      <th>ENSG00000204131</th>\n",
       "      <td>ENSG00000204131</td>\n",
       "      <td>0.536134</td>\n",
       "    </tr>\n",
       "    <tr>\n",
       "      <th>ENSG00000204131</th>\n",
       "      <td>ENSG00000204131</td>\n",
       "      <td>0.544682</td>\n",
       "    </tr>\n",
       "  </tbody>\n",
       "</table>\n",
       "</div>"
      ],
      "text/plain": [
       "                            gene      corr\n",
       "gene                                      \n",
       "ENSG00000204131  ENSG00000204131  0.487731\n",
       "ENSG00000204131  ENSG00000204131  0.499736\n",
       "ENSG00000204131  ENSG00000204131  0.536134\n",
       "ENSG00000204131  ENSG00000204131  0.544682"
      ]
     },
     "execution_count": 48,
     "metadata": {},
     "output_type": "execute_result"
    }
   ],
   "source": [
    "jpx.loc['ENSG00000204131']"
   ]
  },
  {
   "cell_type": "code",
   "execution_count": 54,
   "metadata": {},
   "outputs": [
    {
     "data": {
      "text/plain": [
       "gene    ENSG00000225470\n",
       "corr            0.50407\n",
       "Name: ENSG00000225470, dtype: object"
      ]
     },
     "execution_count": 54,
     "metadata": {},
     "output_type": "execute_result"
    }
   ],
   "source": [
    "jpx.loc['ENSG00000225470']"
   ]
  },
  {
   "cell_type": "code",
   "execution_count": null,
   "metadata": {
    "id": "8RdYm1Gzz7xq"
   },
   "outputs": [],
   "source": [
    "listOfPos = [] # create new list\n",
    "result = df.isin(['CTD-2587H24.5'])# True if equals to \"CTD\"\n",
    "seriesObj = result.any() # True if at least one element along a Dataframe axis is True \n",
    "columnNames = list(seriesObj[seriesObj == True].index) # create list with columns containing \"CTD\"\n",
    "for col in columnNames:\n",
    "        rows = list(result[col][result[col] == True].index) # get indexes of rows wich have \"CTD\" in KD.genesymbol\n",
    "        for row in rows:\n",
    "            listOfPos.append((row, col)) # write them in the list"
   ]
  }
 ],
 "metadata": {
  "colab": {
   "provenance": []
  },
  "kernelspec": {
   "display_name": "Python 3 (ipykernel)",
   "language": "python",
   "name": "python3"
  },
  "language_info": {
   "codemirror_mode": {
    "name": "ipython",
    "version": 3
   },
   "file_extension": ".py",
   "mimetype": "text/x-python",
   "name": "python",
   "nbconvert_exporter": "python",
   "pygments_lexer": "ipython3",
   "version": "3.9.7"
  }
 },
 "nbformat": 4,
 "nbformat_minor": 1
}
