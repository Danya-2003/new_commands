{
 "cells": [
  {
   "cell_type": "code",
   "execution_count": null,
   "metadata": {},
   "outputs": [],
   "source": [
    "import pandas as pd\n",
    "import numpy as np\n",
    "import matplotlib.pyplot as plt\n",
    "import seaborn as sns"
   ]
  },
  {
   "cell_type": "code",
   "execution_count": null,
   "metadata": {
    "colab": {
     "base_uri": "https://localhost:8080/"
    },
    "id": "zZPHPYalvVEh",
    "outputId": "50e7fb06-c755-41db-ee3a-9b2cc5c97e84"
   },
   "outputs": [],
   "source": [
    "matr=pd.read_csv(\"~/Downloads/fantom//expression.tpm.gene.ASO.tsv\", sep='\\t', header=None)"
   ]
  },
  {
   "cell_type": "code",
   "execution_count": null,
   "metadata": {},
   "outputs": [],
   "source": [
    "ENSG00000267577 - CTD - 122136\n",
    "ENSG00000167646 - DNAAF3 - 97774\n",
    "ENSG00000066135 - KDM4A - 86676\n",
    "ENSG00000076248 - MDM2 - 87053\n",
    "ENSG00000135679 - UNG - 92803\n",
    "ENSG00000173120 - KDM2A - 98984\n",
    "ENSG00000089094 - KDM2B - 87531\n",
    "ENSG00000170468 - RIOX1 - 98419\n",
    "ENSG00000172943 - PHF8 - 98953\n",
    "ENSG00000129990 - SYT5 - 91875\n",
    "ENSG00000107077 - KDM4C - 89094\n",
    "ENSG00000127663 - KDM4B - 91635\n",
    "    \n",
    "CTD: 226 - 01; 240 - 01; 195 - 03; 259 - 03;"
   ]
  },
  {
   "cell_type": "code",
   "execution_count": null,
   "metadata": {
    "colab": {
     "base_uri": "https://localhost:8080/"
    },
    "id": "CDd8SFGhuHZf",
    "outputId": "2820d4d6-62b4-4df4-e05d-0f2e7149d1da"
   },
   "outputs": [],
   "source": [
    "for i, elem in enumerate(matr[0]):\n",
    "    if \"CAT\" in elem:\n",
    "        print(elem)"
   ]
  },
  {
   "cell_type": "code",
   "execution_count": null,
   "metadata": {},
   "outputs": [],
   "source": [
    "for i in range (1, 1067, 1):\n",
    "    if 'ASO_G0229847_AD_04'  in matr.iloc[3, i]:\n",
    "        print(i)"
   ]
  },
  {
   "cell_type": "code",
   "execution_count": null,
   "metadata": {},
   "outputs": [],
   "source": [
    "JPX ASO_G0225470_05 292 295\n",
    "JPX ASO_G0225470_AD_04 1007 1045\n",
    "\n",
    "EMX2OS ASO_G0229847_AD_02 708 709\n",
    "EMX2OS ASO_G0229847_AD_04 693 737\n"
   ]
  },
  {
   "cell_type": "code",
   "execution_count": null,
   "metadata": {},
   "outputs": [],
   "source": [
    "matr[226].head(51)"
   ]
  },
  {
   "cell_type": "code",
   "execution_count": null,
   "metadata": {},
   "outputs": [],
   "source": [
    "matr[226] = pd.to_numeric(matr[226], errors='coerce', downcast = 'float')\n",
    "matr[240] = pd.to_numeric(matr[240], errors='ignore', downcast = 'float')"
   ]
  },
  {
   "cell_type": "code",
   "execution_count": null,
   "metadata": {},
   "outputs": [],
   "source": [
    "search = list()\n",
    "search.append(matr.iloc[91635, 226])\n",
    "search.append(matr.iloc[91635, 240])\n",
    "search.append(matr.iloc[91635, 195])\n",
    "search.append(matr.iloc[91635, 259])\n",
    "search"
   ]
  },
  {
   "cell_type": "code",
   "execution_count": null,
   "metadata": {},
   "outputs": [],
   "source": [
    "expr.replace([np.inf, -np.inf], np.nan, inplace=True)\n",
    "expr.dropna(0, how=\"any\", inplace=True)\n",
    "sns.distplot(expr)"
   ]
  },
  {
   "cell_type": "code",
   "execution_count": null,
   "metadata": {
    "id": "UiSxNFdQydvt"
   },
   "outputs": [],
   "source": [
    "ENSG00000154783 - FGD5\n",
    "ENSG00000225733 - FGD5-AS1"
   ]
  },
  {
   "cell_type": "code",
   "execution_count": null,
   "metadata": {
    "id": "TMIW-NBFrNaf"
   },
   "outputs": [],
   "source": [
    "nc=pd.read_csv(\"~/Downloads/fantom/expression.tpm.gene.None.tsv\", sep='\\t', header=None)\n",
    "nc_id=nc"
   ]
  },
  {
   "cell_type": "code",
   "execution_count": null,
   "metadata": {
    "colab": {
     "base_uri": "https://localhost:8080/"
    },
    "id": "kxdrVdY1Juo-",
    "outputId": "9e4b7c3b-1992-4439-bfb4-99ac3e2a73c6"
   },
   "outputs": [],
   "source": [
    "for i, elem in enumerate(nc[0]):\n",
    "  if \"ENSG00000127663\" in elem:\n",
    "    print(i)"
   ]
  },
  {
   "cell_type": "code",
   "execution_count": null,
   "metadata": {},
   "outputs": [],
   "source": [
    "ENSG00000267577 - CTD - 122136\n",
    "ENSG00000167646 - DNAAF3 - 97774\n",
    "ENSG00000066135 - KDM4A - 86676\n",
    "ENSG00000076248 - MDM2 - 87053\n",
    "ENSG00000135679 - UNG - 92803\n",
    "ENSG00000173120 - KDM2A - 98984\n",
    "ENSG00000089094 - KDM2B - 87531\n",
    "ENSG00000170468 - RIOX1 - 98419\n",
    "ENSG00000172943 - PHF8 - 98953\n",
    "ENSG00000129990 - SYT5 - 91875\n",
    "ENSG00000107077 - KDM4C - 89094\n",
    "ENSG00000127663 - KDM4B - 91635\n",
    "    "
   ]
  },
  {
   "cell_type": "code",
   "execution_count": null,
   "metadata": {},
   "outputs": [],
   "source": [
    "search = list()\n",
    "nc.iloc[89094]"
   ]
  },
  {
   "cell_type": "code",
   "execution_count": null,
   "metadata": {},
   "outputs": [],
   "source": [
    "nc"
   ]
  }
 ],
 "metadata": {
  "colab": {
   "provenance": []
  },
  "kernelspec": {
   "display_name": "Python 3 (ipykernel)",
   "language": "python",
   "name": "python3"
  },
  "language_info": {
   "codemirror_mode": {
    "name": "ipython",
    "version": 3
   },
   "file_extension": ".py",
   "mimetype": "text/x-python",
   "name": "python",
   "nbconvert_exporter": "python",
   "pygments_lexer": "ipython3",
   "version": "3.9.7"
  }
 },
 "nbformat": 4,
 "nbformat_minor": 1
}
